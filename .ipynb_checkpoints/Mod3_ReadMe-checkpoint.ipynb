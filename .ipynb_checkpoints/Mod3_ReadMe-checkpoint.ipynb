{
 "cells": [
  {
   "cell_type": "markdown",
   "metadata": {},
   "source": [
    "# Bank Marketing Data ReadMe"
   ]
  },
  {
   "cell_type": "markdown",
   "metadata": {},
   "source": [
    "# Dataset"
   ]
  },
  {
   "cell_type": "markdown",
   "metadata": {},
   "source": [
    "This project uses the Bank Marketing Dataset from UCI's archives (https://archive.ics.uci.edu/ml/datasets/bank+marketing) to find the best machine learning strategies to improve for the next marketing campaign. The goal is to provide an accurate predictive model for whether or not a potential client will or will not subscribe to a term deposit."
   ]
  },
  {
   "cell_type": "markdown",
   "metadata": {},
   "source": [
    "- Output Variable (desired target):\n",
    "    - y - has the client subscribed a term deposit? (binary: \"yes\",\"no\")\n",
    "    \n",
    "    \n",
    " - Input Variables - \n",
    "   - Continuous:\n",
    "   \n",
    "    - age (numeric)\n",
    "    - duration: last contact duration, in seconds (numeric)\n",
    "        - Important note:  this attribute highly affects the output target (e.g., if duration=0 then y=\"no\"). Yet, the duration is not known before a call is performed. Also, after the end of the call y is obviously known. Thus, this input should only be included for benchmark purposes and should be discarded if the intention is to have a realistic predictive model.\n",
    "    - campaign: number of contacts performed during this campaign and for this client\n",
    "    - pdays: number of days that passed by after the client was last contacted from a previous campaign\n",
    "    - previous: number of contacts performed before this campaign and for this client\n",
    "    - emp.var.rate: employment variation rate - quarterly indicator\n",
    "    - cons.price.idx: consumer price index - monthly indicator     \n",
    "    - cons.conf.idx: consumer confidence index - monthly indicator    \n",
    "    - euribor3m: euribor 3 month rate - daily indicator\n",
    "    - nr.employed: number of employees - quarterly indicator\n",
    "<br>  \n",
    "  \n",
    "  - Categorical:\n",
    "    - job : type of job\n",
    "    - marital : marital status\n",
    "    - education\n",
    "    - default: has credit in default\n",
    "    - housing: has housing loan\n",
    "    - loan: has personal loan\n",
    "    - contact: contact communication type \n",
    "    - month: last contact month of year \n",
    "    - day_of_week: last contact day of the week \n",
    "    - poutcome: outcome of the previous marketing campaign "
   ]
  },
  {
   "cell_type": "markdown",
   "metadata": {},
   "source": [
    "<br>\n",
    "- The dataframe has 41188 rows and 21 columns with no missing values. The last column, 'y', is the target variable. The other 20 columns are divided evenly between continuous and categorical independent variables."
   ]
  },
  {
   "cell_type": "markdown",
   "metadata": {},
   "source": [
    "# Scrub"
   ]
  },
  {
   "cell_type": "markdown",
   "metadata": {},
   "source": [
    "Three subsets of data were created for the subsequent cleaning process:\n",
    "- Continuous dataframe (cont_df)\n",
    "    - Visualize df and check for outliers\n",
    "    - Address skewness of variables (campaign, duration, previous, and pday) by removing top 5% outliers\n",
    "    - Replace 999 values with 0's for pdays\n",
    "- Categorical dataframe (cat_df)\n",
    "    - Create dummy variables for categorical data\n",
    "- Target dataframe (target)\n",
    "    - Replace target no/yes values with binary 0/1 values"
   ]
  },
  {
   "cell_type": "markdown",
   "metadata": {},
   "source": [
    "# Explore"
   ]
  },
  {
   "cell_type": "markdown",
   "metadata": {},
   "source": [
    "Both continuous and categorical subsets were visualized in separate correlation matricies to address any multicollinearity issues prior to modeling.\n",
    "\n",
    "\n",
    "- Continuous data with correlative variables above 0.8:\n",
    "    - nr.employed, number of employees - quarterly indicator\n",
    "    - emp.var.rate, euribor 3 month rate - daily indicator\n",
    "    - euribor3m, employment variation rate - quarterly indicator\n",
    "        - Dropped nr.employed and emp.var.rate\n",
    "        \n",
    "        \n",
    "- Categorical data with correlative variables above 0.8:\n",
    "    - housing_unknown\n",
    "    - loan_unknown\n",
    "        - Dropped loan_unknown\n"
   ]
  },
  {
   "cell_type": "markdown",
   "metadata": {},
   "source": [
    "# Model"
   ]
  },
  {
   "cell_type": "markdown",
   "metadata": {},
   "source": [
    "Models used:\n",
    "- Logistic Regression\n",
    "- Logistic Regression with smote to address class imbalance\n",
    "- Decision Tree\n",
    "- Decision Tree dropping the 'duration' column due to collinearity with target\n",
    "- Random Forest\n",
    "- Random Forest optimized with grid search\n",
    "- XG boost\n",
    "\n",
    "\n",
    "Results:\n",
    "\n",
    "\n",
    "![](./Images/Model_Results.PNG)\n",
    "    \n",
    "    \n",
    "Decision tree, random forest, and XG boost all performed very similarly while logistic regression using smote performed the worst.    "
   ]
  },
  {
   "cell_type": "markdown",
   "metadata": {},
   "source": [
    "<br>"
   ]
  },
  {
   "cell_type": "markdown",
   "metadata": {},
   "source": [
    "XG Boost Feature Importance:\n",
    "\n",
    "![](./Images/XG_boost_FI.PNG)\n",
    "\n",
    "\n",
    "The most important feature for most models was euribor3m. Other noteable important features include poutcome_success, month_may, pdays, and cons.conf.idx"
   ]
  },
  {
   "cell_type": "markdown",
   "metadata": {},
   "source": [
    "# Interpret"
   ]
  },
  {
   "cell_type": "markdown",
   "metadata": {},
   "source": [
    "## euribor3m"
   ]
  },
  {
   "cell_type": "markdown",
   "metadata": {},
   "source": [
    "- The most important feature in most models is the 'euribor3m'. This is the 3 month Euribor interest rate at which a selection of European banks lend one another funds denominated in euros whereby the loans have a maturity of 3 months. The Euribor interest rates are the most important European interbank interest rates.\n",
    "\n",
    "\n",
    "![](./Images/euribor3m.PNG)\n",
    "\n",
    "\n",
    "\n",
    "- The violin plot clearly shows that most clients subscribe to a term deposit when interest rates are low, whereas the opposite is true when interest rates are high. This seems counter intuitive as most investors would perfer a higher return on investment for their deposits. It may be an issue where banks are less likely to approve/provide investors with higher yield term deposits as the intitutions would have to pay more to each investor over the term limit."
   ]
  },
  {
   "cell_type": "markdown",
   "metadata": {},
   "source": [
    "## poutcome"
   ]
  },
  {
   "cell_type": "markdown",
   "metadata": {},
   "source": [
    "- poutcome is the outcome of the previous marketing campaign. The dummy variable poutcome_success was the second most important feature to most of the models run.\n",
    "\n",
    "\n",
    "![](./Images/success.PNG)\n",
    "\n",
    "\n",
    "- The violin plot shows that banks are more successful in currently marketing to those who have previously signed up for term deposits in the past."
   ]
  },
  {
   "cell_type": "markdown",
   "metadata": {},
   "source": [
    "## Month"
   ]
  },
  {
   "cell_type": "markdown",
   "metadata": {},
   "source": [
    "- Month is described as the last contact month of year. \n",
    "\n",
    "\n",
    "![](./Images/month.PNG)\n",
    "\n",
    "\n",
    "- This plot shows that if potential clients last contact was during the summer months (May-Aug) they're less likely to subscribe to a term deposit. The most influential month being May, where there is the highest density of nonsubscribers."
   ]
  },
  {
   "cell_type": "markdown",
   "metadata": {},
   "source": [
    "# Conclusion"
   ]
  },
  {
   "cell_type": "markdown",
   "metadata": {},
   "source": [
    "Overall, each model performed relatively well. The worst performing model is logistic regression using smote for class imbalance. The worst performing model had a precision of 1, recall of 0.72, F1 score of 0.84, and an accuracy of 0.75. The remaining models (decision tree, random forest, and xg boost) all performed similarly. Precision ranged between (0.91-0.94), recall (0.96-0.98), F1 (0.94-0.95), accuracy (0.90).\n",
    "\n",
    "Of all the variables, euribor3m was the most important feature for each model once duration was removed. Other noteable variables include poutcome_success, month_may, pdays, and cons.conf.idx. "
   ]
  },
  {
   "cell_type": "markdown",
   "metadata": {},
   "source": [
    "After investigating 3 of the top most important features, it's recommended that banks focus in on contacting previous subscribers closer to the end of the calendar year especially while interest rates are low."
   ]
  },
  {
   "cell_type": "code",
   "execution_count": null,
   "metadata": {},
   "outputs": [],
   "source": []
  }
 ],
 "metadata": {
  "kernelspec": {
   "display_name": "Python [conda env:learn-env] *",
   "language": "python",
   "name": "conda-env-learn-env-py"
  },
  "language_info": {
   "codemirror_mode": {
    "name": "ipython",
    "version": 3
   },
   "file_extension": ".py",
   "mimetype": "text/x-python",
   "name": "python",
   "nbconvert_exporter": "python",
   "pygments_lexer": "ipython3",
   "version": "3.6.9"
  },
  "toc": {
   "base_numbering": 1,
   "nav_menu": {},
   "number_sections": true,
   "sideBar": true,
   "skip_h1_title": false,
   "title_cell": "Table of Contents",
   "title_sidebar": "Contents",
   "toc_cell": false,
   "toc_position": {},
   "toc_section_display": true,
   "toc_window_display": false
  },
  "varInspector": {
   "cols": {
    "lenName": 16,
    "lenType": 16,
    "lenVar": 40
   },
   "kernels_config": {
    "python": {
     "delete_cmd_postfix": "",
     "delete_cmd_prefix": "del ",
     "library": "var_list.py",
     "varRefreshCmd": "print(var_dic_list())"
    },
    "r": {
     "delete_cmd_postfix": ") ",
     "delete_cmd_prefix": "rm(",
     "library": "var_list.r",
     "varRefreshCmd": "cat(var_dic_list()) "
    }
   },
   "types_to_exclude": [
    "module",
    "function",
    "builtin_function_or_method",
    "instance",
    "_Feature"
   ],
   "window_display": false
  }
 },
 "nbformat": 4,
 "nbformat_minor": 2
}
